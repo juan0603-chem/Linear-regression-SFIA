{
 "cells": [
  {
   "cell_type": "code",
   "execution_count": 7,
   "id": "335e4c17",
   "metadata": {},
   "outputs": [
    {
     "name": "stdout",
     "output_type": "stream",
     "text": [
      "pendiente 1.930357142857143\n",
      "intercepto 1.5178571428571406\n",
      "####################################################\n",
      "coeficiente de correlacion 0.99887956534852\n",
      "recta y =  1.930357142857143 x + 1.5178571428571406\n",
      "Suma de los cuadrados de los residuos:  0.9367857142857166\n",
      "Varianza de los residuos:  0.1873571428571433\n",
      "Desviacion estandar de la regresion lineal:  0.43284771324005317\n",
      "Desviacion estandar de la pendiente:  0.040900264457006445\n",
      "Desviacion estandar del intercepto:  0.2949360013595481\n",
      "intervalo de confianza de la pendiente 1.930357142857143 +/- 0.10511367965450656\n",
      "intervalo de confianza del intercepto 1.5178571428571406 +/- 0.7579855234940386\n",
      "####################################################\n"
     ]
    },
    {
     "data": {
      "image/png": "[encoded data removed]",
      "text/plain": [
       "<Figure size 432x288 with 1 Axes>"
      ]
     },
     "metadata": {
      "needs_background": "light"
     },
     "output_type": "display_data"
    }
   ],
   "source": [
    "#importamos el modulos de numpy (numeric python)\n",
    "import numpy as np\n",
    "\n",
    "#importamos del módulo matplotlib la libreria pyplot con el alias de plt \n",
    "import matplotlib.pyplot as plt\n",
    "\n",
    "\n",
    "#datos que queremos ajustar\n",
    "x = [0, 2, 4, 6, 8, 10, 12]\n",
    "y = [2.1, 5, 9, 12.6, 17.3, 21, 24.7]\n",
    "\n",
    "\n",
    "#---------------------------------------------------------\n",
    "#Calculo de la pendiente (m) y el intercepto (b) de la linealizacion\n",
    "n = len(x)\n",
    "\n",
    "#donde almacenaremos los valores de las sumas\n",
    "suma_xi  = 0\n",
    "suma_yi  = 0\n",
    "suma_xixi= 0\n",
    "suma_yiyi= 0\n",
    "suma_xiyi= 0\n",
    "Rss = 0\n",
    "\n",
    "for i in range( n ):        \n",
    "    suma_xi   += x[i]\n",
    "    suma_yi   += y[i]\n",
    "    suma_xixi += (x[i]-np.mean(x))**2\n",
    "    suma_yiyi += (y[i]-np.mean(y))**2\n",
    "    suma_xiyi += (x[i]-np.mean(x))*(y[i]-np.mean(y))\n",
    "\n",
    "#aplicado las formulas\n",
    "\n",
    "m = suma_xiyi/suma_xixi\n",
    "\n",
    "b = np.mean(y)-m*np.mean(x)\n",
    "\n",
    "r = suma_xiyi/np.sqrt(suma_xixi*suma_yiyi)\n",
    "\n",
    "# CALCULO DEL RSS, DESVIACION ESTANDAR DE LA REGRESION LINEAL, de m y de b\n",
    "\n",
    "for i in range( n ):\n",
    "    Rss += (y[i]-(m*x[i]+b))**2\n",
    "\n",
    "VarianzaResidual = Rss/(n-2)\n",
    "\n",
    "DesvEstReg = np.sqrt(Rss/(n-2))\n",
    "\n",
    "DesvEstPendiente = DesvEstReg/np.sqrt(suma_xixi)\n",
    "\n",
    "DesvEstIntercepto = DesvEstReg*np.sqrt(1/n+np.mean(x)**2/suma_xixi)\n",
    "\n",
    "t = 2.57 #valor de t two tailed n = 5, 95%\n",
    "\n",
    "#Linea recta aproximada\n",
    "L = m * np.array(x) + b  #note que aqui toca transformar la lista de x a un arreglo!\n",
    "\n",
    "#---------------------------------------------------------\n",
    "print(\"pendiente\", m) #m\n",
    "print(\"intercepto\", b) #b\n",
    "print(\"####################################################\")\n",
    "print(\"coeficiente de correlacion\", r) #r\n",
    "print(\"recta\", \"y = \", str(m), \"x +\", str(b))\n",
    "print(\"Suma de los cuadrados de los residuos: \", Rss)\n",
    "print(\"Varianza de los residuos: \", VarianzaResidual)\n",
    "print(\"Desviacion estandar de la regresion lineal: \", DesvEstReg)\n",
    "print(\"Desviacion estandar de la pendiente: \", DesvEstPendiente)\n",
    "print(\"Desviacion estandar del intercepto: \", DesvEstIntercepto)\n",
    "print(\"intervalo de confianza de la pendiente\", str(m) + \" +/- \" + str(t*DesvEstPendiente))\n",
    "print(\"intervalo de confianza del intercepto\", str(b) + \" +/- \" + str(t*DesvEstIntercepto))\n",
    "\n",
    "print(\"####################################################\")\n",
    "\n",
    "#--------------graficando---------------------------\n",
    "#Graficando las parejas de datos\n",
    "plt.plot(  x  , y , \"or\" , label=\"datos\" )\n",
    "\n",
    "\n",
    "#Graficando la recta segun m y b \n",
    "plt.plot(  x , L , label=\"recta aproximada\"  )\n",
    "\n",
    "\n",
    "#mostrando las legendas del grafico\n",
    "plt.grid()       \n",
    "plt.legend()\n",
    "    \n",
    "#Mostrando el gráfico\n",
    "plt.show()   "
   ]
  },
  {
   "cell_type": "code",
   "execution_count": 5,
   "id": "40ec9f2e",
   "metadata": {},
   "outputs": [
    {
     "name": "stdout",
     "output_type": "stream",
     "text": [
      "intervalo de confianza de la concentracion de muestra estandar Na2SO4 0.7160037002775218 +/- 0.6799443113926563\n",
      "Sx_0 0.2645697709699052\n"
     ]
    }
   ],
   "source": [
    "#CALCULO DE LA CONCENTRACION DE UNA MUESTRA DESCONOCIDA\n",
    "\n",
    "y_0 = 2.9\n",
    "z = int(input(\"inserte el numero de determinaciones: \"))\n",
    "x_0 = (y_0 -b )/m\n",
    "a = (y_0-np.mean(y))/m\n",
    "Sx_0 = (DesvEstReg/m)*np.sqrt((1/z)+(1/n)+((a**2)/(suma_xixi)))\n",
    "\n",
    "print(\"intervalo de confianza de la concentracion de muestra estandar Na2SO4\", str(x_0) + \" +/- \" + str(t*Sx_0))\n",
    "print(\"Sx_0\", Sx_0)\n"
   ]
  },
  {
   "cell_type": "code",
   "execution_count": 6,
   "id": "998809f7",
   "metadata": {},
   "outputs": [
    {
     "name": "stdout",
     "output_type": "stream",
     "text": [
      "C_ld:  0.6726957985599346\n",
      "C_lc:  2.242319328533115\n"
     ]
    }
   ],
   "source": [
    "#CALCULO DE LIMITES DE DETECCION Y CUANTIFICACION\n",
    "kld = int(input(\"inserte el k del sigma menor: \"))\n",
    "klc = int(input(\"inserte el k del sigma mayor: \"))\n",
    "C_ld = kld*DesvEstReg/m\n",
    "C_lc = klc*DesvEstReg/m\n",
    "print(\"C_ld: \", C_ld)\n",
    "print(\"C_lc: \", C_lc)"
   ]
  },
  {
   "cell_type": "code",
   "execution_count": null,
   "id": "0176251f",
   "metadata": {},
   "outputs": [],
   "source": []
  }
 ],
 "metadata": {
  "kernelspec": {
   "display_name": "Python 3 (ipykernel)",
   "language": "python",
   "name": "python3"
  },
  "language_info": {
   "codemirror_mode": {
    "name": "ipython",
    "version": 3
   },
   "file_extension": ".py",
   "mimetype": "text/x-python",
   "name": "python",
   "nbconvert_exporter": "python",
   "pygments_lexer": "ipython3",
   "version": "3.9.7"
  }
 },
 "nbformat": 4,
 "nbformat_minor": 5
}
